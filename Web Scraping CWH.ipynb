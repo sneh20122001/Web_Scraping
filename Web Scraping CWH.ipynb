{
 "cells": [
  {
   "cell_type": "code",
   "execution_count": 2,
   "id": "5c57d363",
   "metadata": {},
   "outputs": [
    {
     "name": "stdout",
     "output_type": "stream",
     "text": [
      "Requirement already satisfied: requests in c:\\users\\aaa\\anaconda3\\lib\\site-packages (2.31.0)\n",
      "Requirement already satisfied: charset-normalizer<4,>=2 in c:\\users\\aaa\\anaconda3\\lib\\site-packages (from requests) (2.0.4)\n",
      "Requirement already satisfied: idna<4,>=2.5 in c:\\users\\aaa\\anaconda3\\lib\\site-packages (from requests) (3.4)\n",
      "Requirement already satisfied: urllib3<3,>=1.21.1 in c:\\users\\aaa\\anaconda3\\lib\\site-packages (from requests) (1.26.16)\n",
      "Requirement already satisfied: certifi>=2017.4.17 in c:\\users\\aaa\\anaconda3\\lib\\site-packages (from requests) (2023.7.22)\n",
      "Collecting bs4\n",
      "  Obtaining dependency information for bs4 from https://files.pythonhosted.org/packages/51/bb/bf7aab772a159614954d84aa832c129624ba6c32faa559dfb200a534e50b/bs4-0.0.2-py2.py3-none-any.whl.metadata\n",
      "  Downloading bs4-0.0.2-py2.py3-none-any.whl.metadata (411 bytes)\n",
      "Requirement already satisfied: beautifulsoup4 in c:\\users\\aaa\\anaconda3\\lib\\site-packages (from bs4) (4.12.2)\n",
      "Requirement already satisfied: soupsieve>1.2 in c:\\users\\aaa\\anaconda3\\lib\\site-packages (from beautifulsoup4->bs4) (2.4)\n",
      "Downloading bs4-0.0.2-py2.py3-none-any.whl (1.2 kB)\n",
      "Installing collected packages: bs4\n",
      "Successfully installed bs4-0.0.2\n"
     ]
    },
    {
     "name": "stderr",
     "output_type": "stream",
     "text": [
      "ERROR: Could not find a version that satisfies the requirement htmllib (from versions: none)\n",
      "ERROR: No matching distribution found for htmllib\n"
     ]
    }
   ],
   "source": [
    "!pip install requests\n",
    "!pip install bs4\n",
    "!pip install htmllib"
   ]
  },
  {
   "cell_type": "code",
   "execution_count": 4,
   "id": "4cbaeb0e",
   "metadata": {},
   "outputs": [],
   "source": [
    "import requests\n",
    "from bs4 import BeautifulSoup"
   ]
  },
  {
   "cell_type": "code",
   "execution_count": 5,
   "id": "ec829c8e",
   "metadata": {},
   "outputs": [],
   "source": [
    "url = \"https://www.codewithharry.com/\""
   ]
  },
  {
   "cell_type": "markdown",
   "id": "5c590a82",
   "metadata": {},
   "source": [
    "# html get"
   ]
  },
  {
   "cell_type": "code",
   "execution_count": 16,
   "id": "c19ea3f4",
   "metadata": {},
   "outputs": [],
   "source": [
    " \n",
    "r = requests.get(url)\n",
    "htmlContent = r.content\n",
    "# print(htmlContent)"
   ]
  },
  {
   "cell_type": "markdown",
   "id": "11433659",
   "metadata": {},
   "source": [
    "# parse the html"
   ]
  },
  {
   "cell_type": "code",
   "execution_count": null,
   "id": "ccbbada4",
   "metadata": {},
   "outputs": [],
   "source": [
    "\n",
    "soup = BeautifulSoup(htmlContent,'html.parser')\n",
    "# print(soup.prettify)"
   ]
  },
  {
   "cell_type": "markdown",
   "id": "361b2734",
   "metadata": {},
   "source": [
    "# html tree traversal"
   ]
  },
  {
   "cell_type": "code",
   "execution_count": 22,
   "id": "ffd89cbc",
   "metadata": {},
   "outputs": [
    {
     "name": "stdout",
     "output_type": "stream",
     "text": [
      "<title>Learn to code online - CodeWithHarry</title>\n"
     ]
    }
   ],
   "source": [
    "# get html title \n",
    "title = soup.title\n",
    "print(title)"
   ]
  },
  {
   "cell_type": "code",
   "execution_count": 23,
   "id": "31ad4cc7",
   "metadata": {},
   "outputs": [
    {
     "name": "stdout",
     "output_type": "stream",
     "text": [
      "[<p class=\"mt-2 text-sm text-gray-500 md:text-base dark:text-gray-400\">Confused on which course to take? I have got you covered. Browse courses and find out the best course for you. Its free! Code With Harry is my attempt to teach basics and those coding techniques to people in short time which took me ages to learn.</p>, <p class=\"text-gray-700 text-base dark:text-gray-400\">Python is one of the most demanded programming languages in the job market. Surprisingly, it is equally easy to learn and master Python. Let's commit our 100 days of code to python!</p>, <p class=\"text-gray-700 text-base dark:text-gray-400\">This latest JavaScript course comes with premium curriculum that covers everything from basics to advance. On top of that, you will get my handwritten notes of JS for completely free. What are you waiting for? Just Enroll Buddy</p>, <p class=\"text-gray-700 text-base dark:text-gray-400\">React is a free and open-source front-end JavaScript library. This series will cover React from starting to the end. We will learn react from the ground up!</p>, <p class=\"leading-relaxed mb-6 dark:text-gray-300\">I don't have words to thank this man, I'm really grateful to have this channel and website in my daily routine. If you're a mere beginner, then you can trust this guy and can put your time into his content. I can assure you that it'll be worth it.</p>, <p class=\"leading-relaxed mb-6 dark:text-gray-300\">For everyone who wants to level up their #Coding and #Dev skills - seriously, this channel is for you! Both basic and advanced stacks are covered on this channel, and one can learn according to his skill levels. And the icing on the cake is, everything is available for free.</p>, <p class=\"text-sm text-gray-500 sm:ml-4 sm:pl-4 sm:border-l-2 sm:border-gray-200 sm:py-2 mt-4 md:mt-2 mb-2 md:mb-0 text-center dark:text-gray-400\">Copyright © <!-- -->2024<!-- --> CodeWithHarry.com<!-- --></p>]\n"
     ]
    }
   ],
   "source": [
    "# get paragraph from the page\n",
    "paras = soup.find_all('p')\n",
    "print(paras)"
   ]
  },
  {
   "cell_type": "code",
   "execution_count": 45,
   "id": "05c93986",
   "metadata": {},
   "outputs": [
    {
     "name": "stdout",
     "output_type": "stream",
     "text": [
      "[<a href=\"/\">Home</a>, <a href=\"/videos/\">Courses</a>, <a href=\"/tutorials/\">Tutorial</a>, <a href=\"/blog/\">Blog</a>, <a href=\"/notes/\">Notes</a>, <a href=\"/contact/\">Contact</a>, <a href=\"/my-gear/\">My Gear</a>, <a href=\"/work/\">Work With Us</a>, <a href=\"/tutorial/html-home/\">HTML</a>, <a href=\"/tutorial/css-home/\">CSS</a>, <a href=\"/tutorial/js/\">JS</a>, <a href=\"/tutorial/c/\">C</a>, <a href=\"/tutorial/cplusplus/\">C++</a>, <a href=\"/tutorial/java/\">JAVA</a>, <a href=\"/tutorial/python/\">PYTHON</a>, <a href=\"/tutorial/php/\">PHP</a>, <a href=\"/tutorial/react-home/\">REACT JS</a>, <a href=\"/\">Home</a>, <a href=\"/videos/\">Courses</a>, <a href=\"/tutorial/html-home/\">HTML</a>, <a href=\"/tutorial/css-home/\">CSS</a>, <a href=\"/tutorial/js/\">JS</a>, <a href=\"/tutorial/c/\">C</a>, <a href=\"/tutorial/cplusplus/\">C++</a>, <a href=\"/tutorial/java/\">JAVA</a>, <a href=\"/tutorial/python/\">PYTHON</a>, <a href=\"/tutorial/php/\">PHP</a>, <a href=\"/tutorial/react-home/\">REACT JS</a>, <a href=\"/blog/\">Blog</a>, <a href=\"/notes/\">Notes</a>, <a href=\"/contact/\">Contact</a>, <a href=\"/my-gear/\">My Gear</a>, <a href=\"/work/\">Work With Us</a>, <a aria-label=\"facebook\" class=\"text-gray-500 dark:text-gray-300\" href=\"https://www.facebook.com/codewithharry\" rel=\"noreferrer\" target=\"_blank\"><svg class=\"w-5 h-5\" fill=\"currentColor\" stroke-linecap=\"round\" stroke-linejoin=\"round\" stroke-width=\"2\" viewbox=\"0 0 24 24\"><path d=\"M18 2h-3a5 5 0 00-5 5v3H7v4h3v8h4v-8h3l1-4h-4V7a1 1 0 011-1h3z\"></path></svg></a>, <a aria-label=\"twitter\" class=\"ml-3 text-gray-500 dark:text-gray-300\" href=\"https://www.twitter.com/codewithharry\" rel=\"noreferrer\" target=\"_blank\"><svg class=\"w-5 h-5\" fill=\"currentColor\" stroke-linecap=\"round\" stroke-linejoin=\"round\" stroke-width=\"2\" viewbox=\"0 0 24 24\"><path d=\"M23 3a10.9 10.9 0 01-3.14 1.53 4.48 4.48 0 00-7.86 3v1A10.66 10.66 0 013 4s-4 9 5 13a11.64 11.64 0 01-7 2c9 5 20 0 20-11.5a4.5 4.5 0 00-.08-.83A7.72 7.72 0 0023 3z\"></path></svg></a>, <a aria-label=\"instagram\" class=\"ml-3 text-gray-500 dark:text-gray-300\" href=\"https://www.instagram.com/codewithharry\" rel=\"noreferrer\" target=\"_blank\"><svg class=\"w-5 h-5\" fill=\"none\" stroke=\"currentColor\" stroke-linecap=\"round\" stroke-linejoin=\"round\" stroke-width=\"2\" viewbox=\"0 0 24 24\"><rect height=\"20\" rx=\"5\" ry=\"5\" width=\"20\" x=\"2\" y=\"2\"></rect><path d=\"M16 11.37A4 4 0 1112.63 8 4 4 0 0116 11.37zm1.5-4.87h.01\"></path></svg></a>, <a aria-label=\"github\" class=\"ml-3 text-gray-500 dark:text-gray-300\" href=\"https://www.github.com/codewithharry\" rel=\"noreferrer\" target=\"_blank\"><svg class=\"text-xl\" fill=\"currentColor\" height=\"1em\" stroke=\"currentColor\" stroke-width=\"0\" viewbox=\"0 0 1024 1024\" width=\"1em\" xmlns=\"http://www.w3.org/2000/svg\"><path d=\"M511.6 76.3C264.3 76.2 64 276.4 64 523.5 64 718.9 189.3 885 363.8 946c23.5 5.9 19.9-10.8 19.9-22.2v-77.5c-135.7 15.9-141.2-73.9-150.3-88.9C215 726 171.5 718 184.5 703c30.9-15.9 62.4 4 98.9 57.9 26.4 39.1 77.9 32.5 104 26 5.7-23.5 17.9-44.5 34.7-60.8-140.6-25.2-199.2-111-199.2-213 0-49.5 16.3-95 48.3-131.7-20.4-60.5 1.9-112.3 4.9-120 58.1-5.2 118.5 41.6 123.2 45.3 33-8.9 70.7-13.6 112.9-13.6 42.4 0 80.2 4.9 113.5 13.9 11.3-8.6 67.3-48.8 121.3-43.9 2.9 7.7 24.7 58.3 5.5 118 32.4 36.8 48.9 82.7 48.9 132.3 0 102.2-59 188.1-200 212.9a127.5 127.5 0 0 1 38.1 91v112.5c.8 9 0 17.9 15 17.9 177.1-59.7 304.6-227 304.6-424.1 0-247.2-200.4-447.3-447.5-447.3z\"></path></svg></a>]\n",
      "https://www.codewithharry.com/\n",
      "https://www.codewithharry.com/videos/\n",
      "https://www.codewithharry.com/tutorials/\n",
      "https://www.codewithharry.com/blog/\n",
      "https://www.codewithharry.com/notes/\n",
      "https://www.codewithharry.com/contact/\n",
      "https://www.codewithharry.com/my-gear/\n",
      "https://www.codewithharry.com/work/\n",
      "https://www.codewithharry.com/tutorial/html-home/\n",
      "https://www.codewithharry.com/tutorial/css-home/\n",
      "https://www.codewithharry.com/tutorial/js/\n",
      "https://www.codewithharry.com/tutorial/c/\n",
      "https://www.codewithharry.com/tutorial/cplusplus/\n",
      "https://www.codewithharry.com/tutorial/java/\n",
      "https://www.codewithharry.com/tutorial/python/\n",
      "https://www.codewithharry.com/tutorial/php/\n",
      "https://www.codewithharry.com/tutorial/react-home/\n",
      "https://www.codewithharry.com/\n",
      "https://www.codewithharry.com/videos/\n",
      "https://www.codewithharry.com/tutorial/html-home/\n",
      "https://www.codewithharry.com/tutorial/css-home/\n",
      "https://www.codewithharry.com/tutorial/js/\n",
      "https://www.codewithharry.com/tutorial/c/\n",
      "https://www.codewithharry.com/tutorial/cplusplus/\n",
      "https://www.codewithharry.com/tutorial/java/\n",
      "https://www.codewithharry.com/tutorial/python/\n",
      "https://www.codewithharry.com/tutorial/php/\n",
      "https://www.codewithharry.com/tutorial/react-home/\n",
      "https://www.codewithharry.com/blog/\n",
      "https://www.codewithharry.com/notes/\n",
      "https://www.codewithharry.com/contact/\n",
      "https://www.codewithharry.com/my-gear/\n",
      "https://www.codewithharry.com/work/\n",
      "https://www.codewithharry.comhttps://www.facebook.com/codewithharry\n",
      "https://www.codewithharry.comhttps://www.twitter.com/codewithharry\n",
      "https://www.codewithharry.comhttps://www.instagram.com/codewithharry\n",
      "https://www.codewithharry.comhttps://www.github.com/codewithharry\n"
     ]
    }
   ],
   "source": [
    "# get anchor from the page\n",
    "anchors = soup.find_all('a')\n",
    "all_links = set()\n",
    "print(anchor)\n",
    "# get all the links on the page\n",
    "for link in anchors:\n",
    "    if(link.get('href') != '#'):\n",
    "        linkText = \"https://www.codewithharry.com\" +link.get('href')\n",
    "        all_links.add(link)\n",
    "        print(linkText)"
   ]
  },
  {
   "cell_type": "code",
   "execution_count": 35,
   "id": "5984005d",
   "metadata": {},
   "outputs": [
    {
     "name": "stdout",
     "output_type": "stream",
     "text": [
      "<p class=\"mt-2 text-sm text-gray-500 md:text-base dark:text-gray-400\">Confused on which course to take? I have got you covered. Browse courses and find out the best course for you. Its free! Code With Harry is my attempt to teach basics and those coding techniques to people in short time which took me ages to learn.</p>\n",
      "['mt-2', 'text-sm', 'text-gray-500', 'md:text-base', 'dark:text-gray-400']\n"
     ]
    }
   ],
   "source": [
    "print(soup.find('p'))\n",
    "print(soup.find('p')['class'])\n"
   ]
  },
  {
   "cell_type": "code",
   "execution_count": 31,
   "id": "0c1b2142",
   "metadata": {},
   "outputs": [
    {
     "name": "stdout",
     "output_type": "stream",
     "text": [
      "[<p class=\"mt-2 text-sm text-gray-500 md:text-base dark:text-gray-400\">Confused on which course to take? I have got you covered. Browse courses and find out the best course for you. Its free! Code With Harry is my attempt to teach basics and those coding techniques to people in short time which took me ages to learn.</p>, <p class=\"text-sm text-gray-500 sm:ml-4 sm:pl-4 sm:border-l-2 sm:border-gray-200 sm:py-2 mt-4 md:mt-2 mb-2 md:mb-0 text-center dark:text-gray-400\">Copyright © <!-- -->2024<!-- --> CodeWithHarry.com<!-- --></p>]\n"
     ]
    }
   ],
   "source": [
    "# find all the elements with class text-sm\n",
    "print(soup.find_all('p',class_=\"text-sm\"))"
   ]
  },
  {
   "cell_type": "code",
   "execution_count": 34,
   "id": "1235f6a6",
   "metadata": {},
   "outputs": [
    {
     "name": "stdout",
     "output_type": "stream",
     "text": [
      "Confused on which course to take? I have got you covered. Browse courses and find out the best course for you. Its free! Code With Harry is my attempt to teach basics and those coding techniques to people in short time which took me ages to learn.\n",
      "Learn to code online - CodeWithHarry</> CodeWithHarryMenuLoginHomeCoursesTutorialBlogNotesContactMy GearWork With UsLoginSignupHTMLCSSJSCC++JAVAPYTHONPHPREACT JSHomeCoursesTutorial HTMLCSSJSCC++JAVAPYTHONPHPREACT JSBlogNotesContactMy GearWork With UsWelcome to Learn Confused on which course to take? I have got you covered. Browse courses and find out the best course for you. Its free! Code With Harry is my attempt to teach basics and those coding techniques to people in short time which took me ages to learn.Free CoursesExplore BlogRecommended CoursesFREE COURSEPython Tutorials - 100 Days of Code    Python is one of the most demanded programming languages in the job market. Surprisingly, it is equally easy to learn and master Python. Let's commit our 100 days of code to python!  Start Watching FREE COURSEUltimate JavaScript CourseThis latest JavaScript course comes with premium curriculum that covers everything from basics to advance. On top of that, you will get my handwritten notes of JS for completely free. What are you waiting for? Just Enroll Buddy  Start Watching FREE COURSEReact JS Tutorials For BeginnersReact is a free and open-source front-end JavaScript library. This series will cover React from starting to the end. We will learn react from the ground up!  Start Watching TestimonialsI don't have words to thank this man, I'm really grateful to have this channel and website in my daily routine. If you're a mere beginner, then you can trust this guy and can put your time into his content. I can assure you that it'll be worth it.Mohit KumarWeb DeveloperFor everyone who wants to level up their #Coding and #Dev skills - seriously, this channel is for you! Both basic and advanced stacks are covered on this channel, and one can learn according to his skill levels. And the icing on the cake is, everything is available for free.Rakesh ShettyWeb DeveloperCodeWithHarryCopyright © 2024 CodeWithHarry.com\n"
     ]
    }
   ],
   "source": [
    "# get the text from the tages/ soup\n",
    "print(soup.find('p').get_text())\n",
    "print(soup.get_text())"
   ]
  },
  {
   "cell_type": "code",
   "execution_count": 85,
   "id": "98e77eec",
   "metadata": {},
   "outputs": [
    {
     "name": "stdout",
     "output_type": "stream",
     "text": [
      "[<li class=\"pt-4 text-purple-500 font-bold\"><a href=\"/\">Home</a></li>, <li class=\"pt-4 text-purple-500 font-bold\"><a href=\"/videos/\">Courses</a></li>, <li class=\"pt-4 text-purple-500 font-bold\"><a href=\"/blog/\">Blog</a></li>, <li class=\"pt-4 text-purple-500 font-bold\"><a href=\"/notes/\">Notes</a></li>, <li class=\"pt-4 text-purple-500 font-bold\"><a href=\"/contact/\">Contact</a></li>, <li class=\"pt-4 text-purple-500 font-bold\"><a href=\"/my-gear/\">My Gear</a></li>]\n"
     ]
    }
   ],
   "source": [
    "navbar = soup.find_all(class_= 'pt-4 text-purple-500 font-bold')\n",
    "print(navbar)"
   ]
  },
  {
   "cell_type": "code",
   "execution_count": null,
   "id": "350add15",
   "metadata": {},
   "outputs": [],
   "source": []
  }
 ],
 "metadata": {
  "kernelspec": {
   "display_name": "Python 3 (ipykernel)",
   "language": "python",
   "name": "python3"
  },
  "language_info": {
   "codemirror_mode": {
    "name": "ipython",
    "version": 3
   },
   "file_extension": ".py",
   "mimetype": "text/x-python",
   "name": "python",
   "nbconvert_exporter": "python",
   "pygments_lexer": "ipython3",
   "version": "3.11.5"
  }
 },
 "nbformat": 4,
 "nbformat_minor": 5
}
