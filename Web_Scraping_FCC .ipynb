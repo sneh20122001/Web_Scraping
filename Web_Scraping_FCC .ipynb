{
 "cells": [
  {
   "cell_type": "code",
   "execution_count": 1,
   "id": "81d4132e",
   "metadata": {},
   "outputs": [
    {
     "name": "stdout",
     "output_type": "stream",
     "text": [
      "Requirement already satisfied: beautifulsoup4 in c:\\users\\aaa\\anaconda3\\lib\\site-packages (4.12.2)\n",
      "Requirement already satisfied: soupsieve>1.2 in c:\\users\\aaa\\anaconda3\\lib\\site-packages (from beautifulsoup4) (2.4)\n",
      "Requirement already satisfied: lxml in c:\\users\\aaa\\anaconda3\\lib\\site-packages (4.9.3)\n",
      "Requirement already satisfied: requests in c:\\users\\aaa\\anaconda3\\lib\\site-packages (2.31.0)\n",
      "Requirement already satisfied: charset-normalizer<4,>=2 in c:\\users\\aaa\\anaconda3\\lib\\site-packages (from requests) (2.0.4)\n",
      "Requirement already satisfied: idna<4,>=2.5 in c:\\users\\aaa\\anaconda3\\lib\\site-packages (from requests) (3.4)\n",
      "Requirement already satisfied: urllib3<3,>=1.21.1 in c:\\users\\aaa\\anaconda3\\lib\\site-packages (from requests) (1.26.16)\n",
      "Requirement already satisfied: certifi>=2017.4.17 in c:\\users\\aaa\\anaconda3\\lib\\site-packages (from requests) (2023.7.22)\n"
     ]
    }
   ],
   "source": [
    "!pip install beautifulsoup4\n",
    "!pip install lxml\n",
    "!pip install requests"
   ]
  },
  {
   "cell_type": "code",
   "execution_count": 2,
   "id": "ee6e6e5d",
   "metadata": {},
   "outputs": [],
   "source": [
    "from bs4 import BeautifulSoup"
   ]
  },
  {
   "cell_type": "code",
   "execution_count": 3,
   "id": "1f82f35d",
   "metadata": {},
   "outputs": [
    {
     "name": "stdout",
     "output_type": "stream",
     "text": [
      "1!\n",
      "2!\n",
      "3!\n"
     ]
    }
   ],
   "source": [
    "with open('html.html','r') as html_file:\n",
    "    content = html_file.read()\n",
    "#     print(content)\n",
    "    \n",
    "    \n",
    "    \n",
    "    soup = BeautifulSoup(content, 'lxml')\n",
    "#     # print(soup.prettify())\n",
    "#     courses_html_tags = soup.find_all('h5')\n",
    "#     for course in courses_html_tags:\n",
    "#         print(course.text)\n",
    "    course_cards = soup.find_all('button',class_='123')\n",
    "    for course in course_cards:\n",
    "        print(course.text.split()[-1])"
   ]
  },
  {
   "cell_type": "code",
   "execution_count": null,
   "id": "1c8dbdbf",
   "metadata": {},
   "outputs": [],
   "source": [
    "import requests\n",
    "import time\n",
    "\n",
    "print(\"put some skills that you are not familiar with\")\n",
    "unfamiliar_skill = input('>')\n",
    "print(f'Filtering out {unfamiliar_skill}')\n",
    "\n",
    "\n",
    "def find_jobs():\n",
    "    html_text=requests.get('https://www.timesjobs.com/candidate/job-search.html?searchType=personalizedSearch&from=submit&searchTextSrc=as&searchTextText=Python&txtKeywords=Python&txtLocation=').text\n",
    "    soup = BeautifulSoup(html_text,'lxml')\n",
    "    jobs = soup.find_all('li',class_='clearfix job-bx wht-shd-bx')\n",
    "    for job in jobs:\n",
    "        published_date = job.find('span',class_=\"sim-posted\").span.text\n",
    "        if 'few' in published_date:\n",
    "            company_name = job.find('h3',class_=\"joblist-comp-name\").text.replace(' ','')\n",
    "\n",
    "            skills = job.find('span',class_=\"srp-skills\").text.replace(' ','')\n",
    "            more_info = job.header.h2.a['href']\n",
    "            if unfamiliar_skill not in skills:\n",
    "                print(f\"Company_name:{company_name.strip()}\")\n",
    "                print(f\"required skills:{skills.strip()}\")\n",
    "                print(f\"More info: {more_info}\")\n",
    "                print('')\n",
    "    #         print(f'''\n",
    "    #         company name : {company_name}\n",
    "    #         required skill : {skills}\n",
    "    #         published date : {published_date})\n",
    "    #         ''')\n",
    "    \n",
    "    \n",
    "    \n",
    "    \n",
    "if __name__ == '__main__':\n",
    "    while True:\n",
    "        \n",
    "        find_jobs()\n",
    "        time_wait = 10\n",
    "        print(f\"Waiting {time_wait} seconds...\")\n",
    "        time.sleep(time_wait*60)\n",
    "        "
   ]
  },
  {
   "cell_type": "code",
   "execution_count": null,
   "id": "c38b5b93",
   "metadata": {},
   "outputs": [],
   "source": [
    "import requests\n",
    "import time\n",
    "\n",
    "print(\"put some skills that you are not familiar with\")\n",
    "unfamiliar_skill = input('>')\n",
    "print(f'Filtering out {unfamiliar_skill}')\n",
    "\n",
    "\n",
    "def find_jobs():\n",
    "    html_text=requests.get('https://www.timesjobs.com/candidate/job-search.html?searchType=personalizedSearch&from=submit&searchTextSrc=as&searchTextText=Python&txtKeywords=Python&txtLocation=').text\n",
    "    soup = BeautifulSoup(html_text,'lxml')\n",
    "    jobs = soup.find_all('li',class_='clearfix job-bx wht-shd-bx')\n",
    "    for job in jobs:\n",
    "        published_date = job.find('span',class_=\"sim-posted\").span.text\n",
    "        if 'few' in published_date:\n",
    "            company_name = job.find('h3',class_=\"joblist-comp-name\").text.replace(' ','')\n",
    "\n",
    "            skills = job.find('span',class_=\"srp-skills\").text.replace(' ','')\n",
    "            more_info = job.header.h2.a['href']\n",
    "            if unfamiliar_skill not in skills:\n",
    "                print(f\"Company_name:{company_name.strip()}\")\n",
    "                print(f\"required skills:{skills.strip()}\")\n",
    "                print(f\"More info: {more_info}\")\n",
    "                print('')\n",
    "    #         print(f'''\n",
    "    #         company name : {company_name}\n",
    "    #         required skill : {skills}\n",
    "    #         published date : {published_date})\n",
    "    #         ''')\n",
    "    \n",
    "    \n",
    "    \n",
    "    \n",
    "if __name__ == '__main__':\n",
    "    while True:\n",
    "        \n",
    "        find_jobs()\n",
    "        time_wait = 10\n",
    "        print(f\"Waiting {time_wait} seconds...\")\n",
    "        time.sleep(time_wait*60)\n",
    "        "
   ]
  },
  {
   "cell_type": "code",
   "execution_count": null,
   "id": "5e4dd060",
   "metadata": {},
   "outputs": [],
   "source": []
  },
  {
   "cell_type": "code",
   "execution_count": null,
   "id": "c9b3650e",
   "metadata": {},
   "outputs": [],
   "source": []
  },
  {
   "cell_type": "code",
   "execution_count": null,
   "id": "4e8110e1",
   "metadata": {},
   "outputs": [],
   "source": []
  },
  {
   "cell_type": "code",
   "execution_count": null,
   "id": "0f87a2f4",
   "metadata": {},
   "outputs": [],
   "source": []
  },
  {
   "cell_type": "code",
   "execution_count": null,
   "id": "90144bdc",
   "metadata": {},
   "outputs": [],
   "source": []
  },
  {
   "cell_type": "code",
   "execution_count": null,
   "id": "b86f558d",
   "metadata": {},
   "outputs": [],
   "source": []
  }
 ],
 "metadata": {
  "kernelspec": {
   "display_name": "Python 3 (ipykernel)",
   "language": "python",
   "name": "python3"
  },
  "language_info": {
   "codemirror_mode": {
    "name": "ipython",
    "version": 3
   },
   "file_extension": ".py",
   "mimetype": "text/x-python",
   "name": "python",
   "nbconvert_exporter": "python",
   "pygments_lexer": "ipython3",
   "version": "3.11.5"
  }
 },
 "nbformat": 4,
 "nbformat_minor": 5
}
